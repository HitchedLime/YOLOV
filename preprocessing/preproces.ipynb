{
 "cells": [
  {
   "cell_type": "code",
   "execution_count": 12,
   "metadata": {},
   "outputs": [],
   "source": [
    "import os \n",
    "import sys\n",
    "import re \n",
    "\n",
    "import pandas as pd \n",
    "import numpy as np \n",
    "import torch\n",
    "import torchvision\n",
    "import cv2 as cv \n",
    "import glob\n",
    "import json \n",
    "current_dir = os.getcwd()\n",
    "\n",
    " \n",
    "dataset_dir = os.path.join(current_dir, 'dataset')\n",
    "\n",
    "\n",
    "sys.path.insert(0, dataset_dir)\n"
   ]
  },
  {
   "cell_type": "markdown",
   "metadata": {},
   "source": [
    "### Brainwash Dataset "
   ]
  },
  {
   "cell_type": "code",
   "execution_count": 13,
   "metadata": {},
   "outputs": [],
   "source": [
    "def replace_multiple(text, replacements):\n",
    "    # Create a regex pattern that matches any of the keys\n",
    "    pattern = re.compile(\"|\".join(re.escape(key) for key in replacements.keys()))\n",
    "    \n",
    "    # Function to return the replacement value\n",
    "    return pattern.sub(lambda match: replacements[match.group(0)], text)\n",
    "\n",
    "\n",
    "def turn_toInt(x):\n",
    "    x = x.lstrip().rstrip()    \n",
    "    x =int(float(x))\n",
    "    return x\n",
    "\n",
    "\n",
    "replacements = {\n",
    "    '(' :\"\",\n",
    "    ')' : \"\",\n",
    "    ';': \"\",\n",
    "}"
   ]
  },
  {
   "cell_type": "code",
   "execution_count": 25,
   "metadata": {},
   "outputs": [
    {
     "name": "stdout",
     "output_type": "stream",
     "text": [
      "c:\\Users\\david\\Git\\YOLOV\\preprocessing\\dataset\\brainwash\\brainwash_test.idl\n",
      "COCO format data has been saved to dataset\\brainwash\\brainwash_test.json.\n",
      "c:\\Users\\david\\Git\\YOLOV\\preprocessing\\dataset\\brainwash\\brainwash_train.idl\n",
      "COCO format data has been saved to dataset\\brainwash\\brainwash_train.json.\n",
      "c:\\Users\\david\\Git\\YOLOV\\preprocessing\\dataset\\brainwash\\brainwash_val.idl\n",
      "COCO format data has been saved to dataset\\brainwash\\brainwash_val.json.\n"
     ]
    }
   ],
   "source": [
    "\n",
    "\n",
    "file_paths = glob.glob(os.path.join(dataset_dir, 'brainwash', '*.idl'), recursive=True)\n",
    "\n",
    "\n",
    "\n",
    "\n",
    "\n",
    "\n",
    "\n",
    "for file_path in file_paths:\n",
    "    print(file_path)\n",
    "    with open(file_path,'r') as file:\n",
    "        content = file.readlines()\n",
    "\n",
    "    coco_format = {\n",
    "    \"images\": [],\n",
    "    \"annotations\": [],\n",
    "    \"categories\": [\n",
    "        {\n",
    "            \"id\": 1,\n",
    "            \"name\": \"person\",  \n",
    "            \"supercategory\": \"none\"\n",
    "        }\n",
    "    ]\n",
    "}\n",
    "\n",
    "\n",
    "\n",
    "\n",
    "    bb_per_line = []\n",
    "    for i,line in enumerate(content):\n",
    "        line_arr  = line.rstrip().split(':')\n",
    "        if(len(line_arr)==2):\n",
    "            img_name = line_arr[0]\n",
    "            boxes =  replace_multiple(line_arr[1],replacements).split(',')\n",
    "            \n",
    "            boxes = np.asarray(list(map(turn_toInt,boxes)))\n",
    "            boxes = boxes.reshape(-1, 4)\n",
    "            boxes= list(boxes)\n",
    "            bb_per_line.append(boxes)\n",
    "            image_info = {\n",
    "                \"id\": i + 1,  # Unique image ID\n",
    "                \"file_name\": img_name,\n",
    "                \"width\": 640,  # Set your image width\n",
    "                \"height\": 480  # Set your image height\n",
    "            }\n",
    "            coco_format[\"images\"].append(image_info)\n",
    "            for bbox_id, bbox in enumerate(boxes, start=1):\n",
    "                x_min, y_min, x_max, y_max = bbox\n",
    "                width = x_max - x_min\n",
    "                height = y_max - y_min\n",
    "                coco_format[\"annotations\"].append({\n",
    "                    \"id\": i + 1,\n",
    "                    \"image_id\": image_info[\"id\"],\n",
    "                    \"category_id\": 1,  # Corresponding category ID\n",
    "                    \"bbox\": [int(x_min), int(y_min), int(width), int(height)],  # COCO format: [x, y, width, height]\n",
    "                    \"area\": float(width * height),  # Area of the bounding box\n",
    "                    \"iscrowd\": 0,  # 0 if not a crowd\n",
    "                    \"segmentation\": []\n",
    "                })\n",
    "            \n",
    "    file_name_with_extension = os.path.basename(file_path)\n",
    "    output_file, _ = os.path.splitext(file_name_with_extension)\n",
    "    output_path = os.path.join('dataset\\\\brainwash',f'{output_file}.json')\n",
    "    with open(output_path, 'w') as json_file:\n",
    "        \n",
    "        json.dump(coco_format, json_file, indent=4)\n",
    "\n",
    "        print(f\"COCO format data has been saved to {output_path}.\")\n",
    "        \n",
    "    "
   ]
  },
  {
   "cell_type": "markdown",
   "metadata": {},
   "source": [
    "## CamVid"
   ]
  },
  {
   "cell_type": "code",
   "execution_count": 34,
   "metadata": {},
   "outputs": [
    {
     "data": {
      "text/html": [
       "<div>\n",
       "<style scoped>\n",
       "    .dataframe tbody tr th:only-of-type {\n",
       "        vertical-align: middle;\n",
       "    }\n",
       "\n",
       "    .dataframe tbody tr th {\n",
       "        vertical-align: top;\n",
       "    }\n",
       "\n",
       "    .dataframe thead th {\n",
       "        text-align: right;\n",
       "    }\n",
       "</style>\n",
       "<table border=\"1\" class=\"dataframe\">\n",
       "  <thead>\n",
       "    <tr style=\"text-align: right;\">\n",
       "      <th></th>\n",
       "      <th>name</th>\n",
       "      <th>r</th>\n",
       "      <th>g</th>\n",
       "      <th>b</th>\n",
       "    </tr>\n",
       "  </thead>\n",
       "  <tbody>\n",
       "    <tr>\n",
       "      <th>0</th>\n",
       "      <td>Bicyclist</td>\n",
       "      <td>0</td>\n",
       "      <td>128</td>\n",
       "      <td>192</td>\n",
       "    </tr>\n",
       "    <tr>\n",
       "      <th>1</th>\n",
       "      <td>Child</td>\n",
       "      <td>192</td>\n",
       "      <td>128</td>\n",
       "      <td>64</td>\n",
       "    </tr>\n",
       "    <tr>\n",
       "      <th>2</th>\n",
       "      <td>Pedestrian</td>\n",
       "      <td>64</td>\n",
       "      <td>64</td>\n",
       "      <td>0</td>\n",
       "    </tr>\n",
       "  </tbody>\n",
       "</table>\n",
       "</div>"
      ],
      "text/plain": [
       "         name    r    g    b\n",
       "0   Bicyclist    0  128  192\n",
       "1       Child  192  128   64\n",
       "2  Pedestrian   64   64    0"
      ]
     },
     "execution_count": 34,
     "metadata": {},
     "output_type": "execute_result"
    }
   ],
   "source": [
    "label_mask =[]\n",
    "label_df = pd.read_csv(\"dataset\\CamVid\\class_dict.csv\")\n",
    "label_df\n",
    "\n",
    "\n",
    "\n"
   ]
  }
 ],
 "metadata": {
  "kernelspec": {
   "display_name": "Python 3",
   "language": "python",
   "name": "python3"
  },
  "language_info": {
   "codemirror_mode": {
    "name": "ipython",
    "version": 3
   },
   "file_extension": ".py",
   "mimetype": "text/x-python",
   "name": "python",
   "nbconvert_exporter": "python",
   "pygments_lexer": "ipython3",
   "version": "3.11.9"
  }
 },
 "nbformat": 4,
 "nbformat_minor": 2
}
